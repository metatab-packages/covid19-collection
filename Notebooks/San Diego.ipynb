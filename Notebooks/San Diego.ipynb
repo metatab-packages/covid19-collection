{
 "cells": [
  {
   "cell_type": "raw",
   "metadata": {
    "tags": [
     "frontmatter"
    ]
   },
   "source": [
    "show_input: hide\n",
    "github: \n",
    "featured_image: 189\n",
    "authors:\n",
    "- email: eric@civicknowledge.com\n",
    "  name: Eric Busboom\n",
    "  organization: Civic Knowledge\n",
    "  type: Analyst\n",
    "tags:\n",
    "- Untagged\n",
    "categories:\n",
    "- Uncategorized"
   ]
  },
  {
   "cell_type": "markdown",
   "metadata": {
    "tags": [
     "Title"
    ]
   },
   "source": [
    "## San Diego COVID-19 History and Projections"
   ]
  },
  {
   "cell_type": "markdown",
   "metadata": {
    "tags": [
     "Description"
    ]
   },
   "source": [
    "For the past few weeks, the San Diego Regional Data Library has been scraping the offical COVID statistics from the County of San Diego. The data package is in the [Library's data repository](https://data.sandiegodata.org/dataset/sandiegodata-org-covid19-1-2-0/). Along with other data in the Library's collection, we now have neough observations to produce some estimates of the future growth of cases in the County \n"
   ]
  },
  {
   "cell_type": "code",
   "execution_count": 1,
   "metadata": {},
   "outputs": [
    {
     "name": "stderr",
     "output_type": "stream",
     "text": [
      "/Users/eric/opt/anaconda3/envs/data/lib/python3.6/site-packages/statsmodels/tools/_testing.py:19: FutureWarning: pandas.util.testing is deprecated. Use the functions in the public API at pandas.testing instead.\n",
      "  import pandas.util.testing as tm\n"
     ]
    }
   ],
   "source": [
    "import sys\n",
    "# Install required packages\n",
    "!{sys.executable} -mpip -q install matplotlib seaborn statsmodels pandas publicdata metapack\n",
    "\n",
    "%matplotlib inline\n",
    "\n",
    "import pandas as pd\n",
    "import geopandas as gpd\n",
    "import numpy as np\n",
    "import metapack as mp\n",
    "import rowgenerators as rg\n",
    "import publicdata as pub\n",
    "import matplotlib.pyplot as plt\n",
    "import seaborn as sns\n",
    "sns.set(color_codes=True)\n",
    "\n",
    "from sklearn import  linear_model\n",
    "from statsmodels.nonparametric.smoothers_lowess import lowess\n",
    "from scipy.stats import weibull_min, lognorm, logistic, norm\n",
    "from scipy.optimize import curve_fit\n",
    "from scipy.special import erf\n",
    "from sklearn.metrics import r2_score\n",
    "\n",
    "from pandas.plotting import register_matplotlib_converters\n",
    "register_matplotlib_converters()\n"
   ]
  },
  {
   "cell_type": "code",
   "execution_count": 2,
   "metadata": {},
   "outputs": [
    {
     "data": {
      "text/html": [
       "<h1>COVID 19 Statistics San Diego County</h1>\n",
       "<p><code>sandiegocounty.gov-covid19-1.1.24</code> Last Update: 2020-06-22T00:17:00</p>\n",
       "<p><em>Official COVID-19 statistics for San Diego County.</em></p>\n",
       "<h2>Documentation Links</h2>\n",
       "<ul>\n",
       "<li><a href=\"http://sdgis-sandag.opendata.arcgis.com/datasets/covid-19-statistics-san-diego-county\">Homepage</a> One of the pages linking to COVID-19 data posted on arcgis.com</li>\n",
       "</ul>\n",
       "<h2>Contacts</h2>\n",
       "<ul>\n",
       "<li><strong>Wrangler</strong> <a href=\"mailto:eric@civicknowledge.com\">Eric Busboom</a>, <a href=\"http://civicknowledge.com\">Civic Knowledge</a></li>\n",
       "<li><strong>Origin</strong> County of San Diego, Health and Human Services Agency, Public Health Services, Epidemiology and Immunization Services Branch</li>\n",
       "</ul>\n",
       "<h2>Resources</h2>\n",
       "<ul>\n",
       "<li><strong> <a href=\"http://library.metatab.org/sandiegocounty.gov-covid19-1.1.24/data/covid_stats.csv\">covid_stats</a></strong>. COVID-19 cases in San Diego County, by sex and age</li>\n",
       "<li><strong> <a href=\"http://library.metatab.org/sandiegocounty.gov-covid19-1.1.24/data/covid_jurisdiction.csv\">covid_jurisdiction</a></strong>. COVID-19 cases by San Diego jurisdiction</li>\n",
       "<li><strong> <a href=\"http://library.metatab.org/sandiegocounty.gov-covid19-1.1.24/data/covid_jurisdiction_geo.csv\">covid_jurisdiction_geo</a></strong>. COVID-19 cases by San Diego jurisdiction, geographic</li>\n",
       "<li><strong> <a href=\"http://library.metatab.org/sandiegocounty.gov-covid19-1.1.24/data/covid_zip.csv\">covid_zip</a></strong>. COVID-19 cases by zip code</li>\n",
       "<li><strong> <a href=\"http://library.metatab.org/sandiegocounty.gov-covid19-1.1.24/data/covid_zip_geo.csv\">covid_zip_geo</a></strong>. COVID-19 cases by zip code, geographic</li>\n",
       "</ul>"
      ],
      "text/plain": [
       "# COVID 19 Statistics San Diego County\n",
       "`sandiegocounty.gov-covid19-1.1.24` Last Update: 2020-06-22T00:17:00\n",
       "\n",
       "_Official COVID-19 statistics for San Diego County._\n",
       "\n",
       "\n",
       "## Documentation Links\n",
       "\n",
       "* [Homepage](http://sdgis-sandag.opendata.arcgis.com/datasets/covid-19-statistics-san-diego-county) One of the pages linking to COVID-19 data posted on arcgis.com\n",
       "\n",
       " \n",
       "\n",
       "## Contacts\n",
       "\n",
       "* **Wrangler** [Eric Busboom](mailto:eric@civicknowledge.com), [Civic Knowledge](http://civicknowledge.com)\n",
       "* **Origin** County of San Diego, Health and Human Services Agency, Public Health Services, Epidemiology and Immunization Services Branch\n",
       "\n",
       "## Resources\n",
       "\n",
       "* ** [covid_stats](http://library.metatab.org/sandiegocounty.gov-covid19-1.1.24/data/covid_stats.csv)**. COVID-19 cases in San Diego County, by sex and age\n",
       "* ** [covid_jurisdiction](http://library.metatab.org/sandiegocounty.gov-covid19-1.1.24/data/covid_jurisdiction.csv)**. COVID-19 cases by San Diego jurisdiction\n",
       "* ** [covid_jurisdiction_geo](http://library.metatab.org/sandiegocounty.gov-covid19-1.1.24/data/covid_jurisdiction_geo.csv)**. COVID-19 cases by San Diego jurisdiction, geographic\n",
       "* ** [covid_zip](http://library.metatab.org/sandiegocounty.gov-covid19-1.1.24/data/covid_zip.csv)**. COVID-19 cases by zip code\n",
       "* ** [covid_zip_geo](http://library.metatab.org/sandiegocounty.gov-covid19-1.1.24/data/covid_zip_geo.csv)**. COVID-19 cases by zip code, geographic\n"
      ]
     },
     "execution_count": 2,
     "metadata": {},
     "output_type": "execute_result"
    }
   ],
   "source": [
    "import metapack as mp\n",
    "pkg = mp.open_package('http://library.metatab.org/sandiegocounty.gov-covid19.csv')\n",
    "pkg"
   ]
  },
  {
   "cell_type": "code",
   "execution_count": 3,
   "metadata": {},
   "outputs": [],
   "source": [
    "# Create Dataframes\n",
    "covid_stats_df = pkg.resource('covid_stats').dataframe()\n",
    "covid_jurisdiction_df = pkg.resource('covid_jurisdiction').dataframe()\n",
    "covid_jurisdiction_geo_gdf = pkg.resource('covid_jurisdiction_geo').geoframe()\n",
    "covid_zip_df = pkg.resource('covid_zip').dataframe()\n",
    "covid_zip_geo_gdf = pkg.resource('covid_zip_geo').geoframe()\n"
   ]
  },
  {
   "cell_type": "code",
   "execution_count": 4,
   "metadata": {},
   "outputs": [],
   "source": [
    "df = covid_stats_df[['date','tests','positives','hospitalized','icu','deaths']].sort_values('date')\n",
    "df['date'] = pd.to_datetime(df.date)\n",
    "\n",
    "df.columns = ['date', 'tests', 'cases', 'hosp','icu', 'deaths']\n",
    "df['date'] = pd.to_datetime(df.date)\n",
    "start_date = df.iloc[0].date\n",
    "start_cases = df.iloc[0].cases\n",
    "df['day'] = (df.date - start_date).dt.days\n",
    "\n",
    "df['new_cases'] = df.cases.diff()\n",
    "df['cases_rate'] = df.cases.diff()/ df.cases.shift(1)\n",
    "df['cases_smooth'] = lowess(df.cases, df.day)[:,1]\n",
    "df['cases_smooth_rate'] = df.cases_smooth.diff()/df.cases_smooth.shift(1)\n",
    "\n",
    "df['new_hosp'] = df.hosp.diff()\n",
    "df['hosp_rate'] = df.hosp.diff()/ df.hosp.shift(1)\n",
    "df['hosp_smooth'] = lowess(df.hosp.fillna(0), df.day)[:,1]\n",
    "df['hosp_smooth_rate'] = df.hosp.diff()/df.hosp_smooth.shift(1)\n",
    "\n",
    "df['new_deaths'] = df.deaths.diff()\n",
    "df['deaths_rate'] = df.deaths.diff()/ df.deaths.shift(1)\n",
    "df['deaths_smooth'] = lowess(df.deaths.fillna(0), df.day)[:,1]\n",
    "df['deaths_smooth_rate'] = df.deaths_smooth.diff()/df.deaths_smooth.shift(1)\n",
    "\n",
    "df['new_tests'] = df.tests.diff()\n",
    "df['tests_rate'] = df.tests.diff()/ df.tests.shift(1)\n",
    "df['tests_smooth'] = lowess(df.tests.fillna(0), df.day)[:,1]\n",
    "df['tests_smooth_rate'] = df.tests_smooth.diff()/df.tests_smooth.shift(1)\n",
    "\n",
    "#df['double_days'] = np.log(2)/np.log(1+df.cases_smooth_rate)\n",
    "\n"
   ]
  },
  {
   "cell_type": "code",
   "execution_count": 5,
   "metadata": {},
   "outputs": [],
   "source": [
    "# Fit functions. \n",
    "def func_norm(x, loc, scale, a):\n",
    "    return a*norm.pdf(x,loc, scale)\n",
    "func_norm.popt =  (22, 10, 3659)\n",
    "\n",
    "def func_logpdf(x, loc, scale, a):\n",
    "    return a*logistic.pdf(x,loc, scale)\n",
    "func_logpdf.popt =  (22, 10, 3659)\n",
    "\n",
    "def func_logistic(x, loc, scale, a): # popt = (14,4, 800)\n",
    "    return a*logistic.cdf(x, loc, scale)\n",
    "func_logistic.popt =  (14,4, 800)\n",
    "\n",
    "def func_erf(x, loc, scale, a, b):\n",
    "    return a*erf( (x-loc) / scale ) + b\n",
    "func_erf.popt = (50,20,3000,3000)\n",
    "\n",
    "def func_gomp(x, a, b, c):\n",
    "    return a * np.exp(-b * np.exp(-c * x))\n",
    "func_gomp.popt = (1000,10,.1)\n"
   ]
  },
  {
   "cell_type": "code",
   "execution_count": 6,
   "metadata": {},
   "outputs": [
    {
     "ename": "AttributeError",
     "evalue": "'numpy.ndarray' object has no attribute 'is_all_dates'",
     "output_type": "error",
     "traceback": [
      "\u001b[0;31m---------------------------------------------------------------------------\u001b[0m",
      "\u001b[0;31mAttributeError\u001b[0m                            Traceback (most recent call last)",
      "\u001b[0;32m<ipython-input-6-8406c6341f75>\u001b[0m in \u001b[0;36m<module>\u001b[0;34m()\u001b[0m\n\u001b[1;32m     10\u001b[0m \u001b[0mt\u001b[0m\u001b[0;34m.\u001b[0m\u001b[0mnew_deaths\u001b[0m \u001b[0;34m=\u001b[0m \u001b[0mt\u001b[0m\u001b[0;34m.\u001b[0m\u001b[0mnew_deaths\u001b[0m\u001b[0;34m\u001b[0m\u001b[0;34m\u001b[0m\u001b[0m\n\u001b[1;32m     11\u001b[0m \u001b[0;34m\u001b[0m\u001b[0m\n\u001b[0;32m---> 12\u001b[0;31m \u001b[0max\u001b[0m\u001b[0;34m.\u001b[0m\u001b[0mplot\u001b[0m\u001b[0;34m(\u001b[0m\u001b[0mt\u001b[0m\u001b[0;34m.\u001b[0m\u001b[0mdate\u001b[0m\u001b[0;34m,\u001b[0m \u001b[0mt\u001b[0m\u001b[0;34m.\u001b[0m\u001b[0mnew_cases\u001b[0m\u001b[0;34m,\u001b[0m \u001b[0mcolor\u001b[0m\u001b[0;34m=\u001b[0m\u001b[0;34m'blue'\u001b[0m\u001b[0;34m,\u001b[0m \u001b[0mlabel\u001b[0m\u001b[0;34m=\u001b[0m\u001b[0;34m'New Cases'\u001b[0m\u001b[0;34m,\u001b[0m \u001b[0mmarker\u001b[0m\u001b[0;34m=\u001b[0m\u001b[0;34m'o'\u001b[0m\u001b[0;34m,\u001b[0m \u001b[0mlinestyle\u001b[0m\u001b[0;34m=\u001b[0m\u001b[0;34m'None'\u001b[0m\u001b[0;34m)\u001b[0m\u001b[0;34m\u001b[0m\u001b[0;34m\u001b[0m\u001b[0m\n\u001b[0m\u001b[1;32m     13\u001b[0m \u001b[0msmoothed\u001b[0m \u001b[0;34m=\u001b[0m \u001b[0mlowess\u001b[0m\u001b[0;34m(\u001b[0m\u001b[0mt\u001b[0m\u001b[0;34m.\u001b[0m\u001b[0mnew_cases\u001b[0m\u001b[0;34m,\u001b[0m  \u001b[0mt\u001b[0m\u001b[0;34m.\u001b[0m\u001b[0mday\u001b[0m\u001b[0;34m,\u001b[0m\u001b[0msmoothing\u001b[0m\u001b[0;34m)\u001b[0m\u001b[0;34m\u001b[0m\u001b[0;34m\u001b[0m\u001b[0m\n\u001b[1;32m     14\u001b[0m \u001b[0msns\u001b[0m\u001b[0;34m.\u001b[0m\u001b[0mlineplot\u001b[0m\u001b[0;34m(\u001b[0m\u001b[0mt\u001b[0m\u001b[0;34m.\u001b[0m\u001b[0mdate\u001b[0m\u001b[0;34m,\u001b[0m \u001b[0msmoothed\u001b[0m\u001b[0;34m[\u001b[0m\u001b[0;34m:\u001b[0m\u001b[0;34m,\u001b[0m\u001b[0;36m1\u001b[0m\u001b[0;34m]\u001b[0m\u001b[0;34m,\u001b[0m \u001b[0mlabel\u001b[0m\u001b[0;34m=\u001b[0m\u001b[0;34m'New Cases Smoothed'\u001b[0m\u001b[0;34m)\u001b[0m\u001b[0;34m\u001b[0m\u001b[0;34m\u001b[0m\u001b[0m\n",
      "\u001b[0;32m~/opt/anaconda3/envs/data/lib/python3.6/site-packages/matplotlib/axes/_axes.py\u001b[0m in \u001b[0;36mplot\u001b[0;34m(self, scalex, scaley, data, *args, **kwargs)\u001b[0m\n\u001b[1;32m   1644\u001b[0m         \"\"\"\n\u001b[1;32m   1645\u001b[0m         \u001b[0mkwargs\u001b[0m \u001b[0;34m=\u001b[0m \u001b[0mcbook\u001b[0m\u001b[0;34m.\u001b[0m\u001b[0mnormalize_kwargs\u001b[0m\u001b[0;34m(\u001b[0m\u001b[0mkwargs\u001b[0m\u001b[0;34m,\u001b[0m \u001b[0mmlines\u001b[0m\u001b[0;34m.\u001b[0m\u001b[0mLine2D\u001b[0m\u001b[0;34m)\u001b[0m\u001b[0;34m\u001b[0m\u001b[0;34m\u001b[0m\u001b[0m\n\u001b[0;32m-> 1646\u001b[0;31m         \u001b[0mlines\u001b[0m \u001b[0;34m=\u001b[0m \u001b[0;34m[\u001b[0m\u001b[0;34m*\u001b[0m\u001b[0mself\u001b[0m\u001b[0;34m.\u001b[0m\u001b[0m_get_lines\u001b[0m\u001b[0;34m(\u001b[0m\u001b[0;34m*\u001b[0m\u001b[0margs\u001b[0m\u001b[0;34m,\u001b[0m \u001b[0mdata\u001b[0m\u001b[0;34m=\u001b[0m\u001b[0mdata\u001b[0m\u001b[0;34m,\u001b[0m \u001b[0;34m**\u001b[0m\u001b[0mkwargs\u001b[0m\u001b[0;34m)\u001b[0m\u001b[0;34m]\u001b[0m\u001b[0;34m\u001b[0m\u001b[0;34m\u001b[0m\u001b[0m\n\u001b[0m\u001b[1;32m   1647\u001b[0m         \u001b[0;32mfor\u001b[0m \u001b[0mline\u001b[0m \u001b[0;32min\u001b[0m \u001b[0mlines\u001b[0m\u001b[0;34m:\u001b[0m\u001b[0;34m\u001b[0m\u001b[0;34m\u001b[0m\u001b[0m\n\u001b[1;32m   1648\u001b[0m             \u001b[0mself\u001b[0m\u001b[0;34m.\u001b[0m\u001b[0madd_line\u001b[0m\u001b[0;34m(\u001b[0m\u001b[0mline\u001b[0m\u001b[0;34m)\u001b[0m\u001b[0;34m\u001b[0m\u001b[0;34m\u001b[0m\u001b[0m\n",
      "\u001b[0;32m~/opt/anaconda3/envs/data/lib/python3.6/site-packages/matplotlib/axes/_base.py\u001b[0m in \u001b[0;36m__call__\u001b[0;34m(self, *args, **kwargs)\u001b[0m\n\u001b[1;32m    214\u001b[0m                 \u001b[0mthis\u001b[0m \u001b[0;34m+=\u001b[0m \u001b[0margs\u001b[0m\u001b[0;34m[\u001b[0m\u001b[0;36m0\u001b[0m\u001b[0;34m]\u001b[0m\u001b[0;34m,\u001b[0m\u001b[0;34m\u001b[0m\u001b[0;34m\u001b[0m\u001b[0m\n\u001b[1;32m    215\u001b[0m                 \u001b[0margs\u001b[0m \u001b[0;34m=\u001b[0m \u001b[0margs\u001b[0m\u001b[0;34m[\u001b[0m\u001b[0;36m1\u001b[0m\u001b[0;34m:\u001b[0m\u001b[0;34m]\u001b[0m\u001b[0;34m\u001b[0m\u001b[0;34m\u001b[0m\u001b[0m\n\u001b[0;32m--> 216\u001b[0;31m             \u001b[0;32myield\u001b[0m \u001b[0;32mfrom\u001b[0m \u001b[0mself\u001b[0m\u001b[0;34m.\u001b[0m\u001b[0m_plot_args\u001b[0m\u001b[0;34m(\u001b[0m\u001b[0mthis\u001b[0m\u001b[0;34m,\u001b[0m \u001b[0mkwargs\u001b[0m\u001b[0;34m)\u001b[0m\u001b[0;34m\u001b[0m\u001b[0;34m\u001b[0m\u001b[0m\n\u001b[0m\u001b[1;32m    217\u001b[0m \u001b[0;34m\u001b[0m\u001b[0m\n\u001b[1;32m    218\u001b[0m     \u001b[0;32mdef\u001b[0m \u001b[0mget_next_color\u001b[0m\u001b[0;34m(\u001b[0m\u001b[0mself\u001b[0m\u001b[0;34m)\u001b[0m\u001b[0;34m:\u001b[0m\u001b[0;34m\u001b[0m\u001b[0;34m\u001b[0m\u001b[0m\n",
      "\u001b[0;32m~/opt/anaconda3/envs/data/lib/python3.6/site-packages/matplotlib/axes/_base.py\u001b[0m in \u001b[0;36m_plot_args\u001b[0;34m(self, tup, kwargs)\u001b[0m\n\u001b[1;32m    330\u001b[0m         \u001b[0;32mif\u001b[0m \u001b[0mlen\u001b[0m\u001b[0;34m(\u001b[0m\u001b[0mtup\u001b[0m\u001b[0;34m)\u001b[0m \u001b[0;34m==\u001b[0m \u001b[0;36m2\u001b[0m\u001b[0;34m:\u001b[0m\u001b[0;34m\u001b[0m\u001b[0;34m\u001b[0m\u001b[0m\n\u001b[1;32m    331\u001b[0m             \u001b[0mx\u001b[0m \u001b[0;34m=\u001b[0m \u001b[0m_check_1d\u001b[0m\u001b[0;34m(\u001b[0m\u001b[0mtup\u001b[0m\u001b[0;34m[\u001b[0m\u001b[0;36m0\u001b[0m\u001b[0;34m]\u001b[0m\u001b[0;34m)\u001b[0m\u001b[0;34m\u001b[0m\u001b[0;34m\u001b[0m\u001b[0m\n\u001b[0;32m--> 332\u001b[0;31m             \u001b[0my\u001b[0m \u001b[0;34m=\u001b[0m \u001b[0m_check_1d\u001b[0m\u001b[0;34m(\u001b[0m\u001b[0mtup\u001b[0m\u001b[0;34m[\u001b[0m\u001b[0;34m-\u001b[0m\u001b[0;36m1\u001b[0m\u001b[0;34m]\u001b[0m\u001b[0;34m)\u001b[0m\u001b[0;34m\u001b[0m\u001b[0;34m\u001b[0m\u001b[0m\n\u001b[0m\u001b[1;32m    333\u001b[0m         \u001b[0;32melse\u001b[0m\u001b[0;34m:\u001b[0m\u001b[0;34m\u001b[0m\u001b[0;34m\u001b[0m\u001b[0m\n\u001b[1;32m    334\u001b[0m             \u001b[0mx\u001b[0m\u001b[0;34m,\u001b[0m \u001b[0my\u001b[0m \u001b[0;34m=\u001b[0m \u001b[0mindex_of\u001b[0m\u001b[0;34m(\u001b[0m\u001b[0mtup\u001b[0m\u001b[0;34m[\u001b[0m\u001b[0;34m-\u001b[0m\u001b[0;36m1\u001b[0m\u001b[0;34m]\u001b[0m\u001b[0;34m)\u001b[0m\u001b[0;34m\u001b[0m\u001b[0;34m\u001b[0m\u001b[0m\n",
      "\u001b[0;32m~/opt/anaconda3/envs/data/lib/python3.6/site-packages/matplotlib/cbook/__init__.py\u001b[0m in \u001b[0;36m_check_1d\u001b[0;34m(x)\u001b[0m\n\u001b[1;32m   1347\u001b[0m                     message='Support for multi-dimensional indexing')\n\u001b[1;32m   1348\u001b[0m \u001b[0;34m\u001b[0m\u001b[0m\n\u001b[0;32m-> 1349\u001b[0;31m                 \u001b[0mndim\u001b[0m \u001b[0;34m=\u001b[0m \u001b[0mx\u001b[0m\u001b[0;34m[\u001b[0m\u001b[0;34m:\u001b[0m\u001b[0;34m,\u001b[0m \u001b[0;32mNone\u001b[0m\u001b[0;34m]\u001b[0m\u001b[0;34m.\u001b[0m\u001b[0mndim\u001b[0m\u001b[0;34m\u001b[0m\u001b[0;34m\u001b[0m\u001b[0m\n\u001b[0m\u001b[1;32m   1350\u001b[0m                 \u001b[0;31m# we have definitely hit a pandas index or series object\u001b[0m\u001b[0;34m\u001b[0m\u001b[0;34m\u001b[0m\u001b[0;34m\u001b[0m\u001b[0m\n\u001b[1;32m   1351\u001b[0m                 \u001b[0;31m# cast to a numpy array.\u001b[0m\u001b[0;34m\u001b[0m\u001b[0;34m\u001b[0m\u001b[0;34m\u001b[0m\u001b[0m\n",
      "\u001b[0;32m~/opt/anaconda3/envs/data/lib/python3.6/site-packages/pandas/core/series.py\u001b[0m in \u001b[0;36m__getitem__\u001b[0;34m(self, key)\u001b[0m\n\u001b[1;32m    908\u001b[0m             \u001b[0mkey\u001b[0m \u001b[0;34m=\u001b[0m \u001b[0mcheck_bool_indexer\u001b[0m\u001b[0;34m(\u001b[0m\u001b[0mself\u001b[0m\u001b[0;34m.\u001b[0m\u001b[0mindex\u001b[0m\u001b[0;34m,\u001b[0m \u001b[0mkey\u001b[0m\u001b[0;34m)\u001b[0m\u001b[0;34m\u001b[0m\u001b[0;34m\u001b[0m\u001b[0m\n\u001b[1;32m    909\u001b[0m \u001b[0;34m\u001b[0m\u001b[0m\n\u001b[0;32m--> 910\u001b[0;31m         \u001b[0;32mreturn\u001b[0m \u001b[0mself\u001b[0m\u001b[0;34m.\u001b[0m\u001b[0m_get_with\u001b[0m\u001b[0;34m(\u001b[0m\u001b[0mkey\u001b[0m\u001b[0;34m)\u001b[0m\u001b[0;34m\u001b[0m\u001b[0;34m\u001b[0m\u001b[0m\n\u001b[0m\u001b[1;32m    911\u001b[0m \u001b[0;34m\u001b[0m\u001b[0m\n\u001b[1;32m    912\u001b[0m     \u001b[0;32mdef\u001b[0m \u001b[0m_get_with\u001b[0m\u001b[0;34m(\u001b[0m\u001b[0mself\u001b[0m\u001b[0;34m,\u001b[0m \u001b[0mkey\u001b[0m\u001b[0;34m)\u001b[0m\u001b[0;34m:\u001b[0m\u001b[0;34m\u001b[0m\u001b[0;34m\u001b[0m\u001b[0m\n",
      "\u001b[0;32m~/opt/anaconda3/envs/data/lib/python3.6/site-packages/pandas/core/series.py\u001b[0m in \u001b[0;36m_get_with\u001b[0;34m(self, key)\u001b[0m\n\u001b[1;32m    921\u001b[0m         \u001b[0;32melif\u001b[0m \u001b[0misinstance\u001b[0m\u001b[0;34m(\u001b[0m\u001b[0mkey\u001b[0m\u001b[0;34m,\u001b[0m \u001b[0mtuple\u001b[0m\u001b[0;34m)\u001b[0m\u001b[0;34m:\u001b[0m\u001b[0;34m\u001b[0m\u001b[0;34m\u001b[0m\u001b[0m\n\u001b[1;32m    922\u001b[0m             \u001b[0;32mtry\u001b[0m\u001b[0;34m:\u001b[0m\u001b[0;34m\u001b[0m\u001b[0;34m\u001b[0m\u001b[0m\n\u001b[0;32m--> 923\u001b[0;31m                 \u001b[0;32mreturn\u001b[0m \u001b[0mself\u001b[0m\u001b[0;34m.\u001b[0m\u001b[0m_get_values_tuple\u001b[0m\u001b[0;34m(\u001b[0m\u001b[0mkey\u001b[0m\u001b[0;34m)\u001b[0m\u001b[0;34m\u001b[0m\u001b[0;34m\u001b[0m\u001b[0m\n\u001b[0m\u001b[1;32m    924\u001b[0m             \u001b[0;32mexcept\u001b[0m \u001b[0mValueError\u001b[0m\u001b[0;34m:\u001b[0m\u001b[0;34m\u001b[0m\u001b[0;34m\u001b[0m\u001b[0m\n\u001b[1;32m    925\u001b[0m                 \u001b[0;31m# if we don't have a MultiIndex, we may still be able to handle\u001b[0m\u001b[0;34m\u001b[0m\u001b[0;34m\u001b[0m\u001b[0;34m\u001b[0m\u001b[0m\n",
      "\u001b[0;32m~/opt/anaconda3/envs/data/lib/python3.6/site-packages/pandas/core/series.py\u001b[0m in \u001b[0;36m_get_values_tuple\u001b[0;34m(self, key)\u001b[0m\n\u001b[1;32m    969\u001b[0m                     \u001b[0;34m\"ignore\"\u001b[0m\u001b[0;34m,\u001b[0m \u001b[0;34m\"Support for multi-dim\"\u001b[0m\u001b[0;34m,\u001b[0m \u001b[0mDeprecationWarning\u001b[0m\u001b[0;34m\u001b[0m\u001b[0;34m\u001b[0m\u001b[0m\n\u001b[1;32m    970\u001b[0m                 )\n\u001b[0;32m--> 971\u001b[0;31m                 \u001b[0;32mreturn\u001b[0m \u001b[0mself\u001b[0m\u001b[0;34m.\u001b[0m\u001b[0m_get_values\u001b[0m\u001b[0;34m(\u001b[0m\u001b[0mkey\u001b[0m\u001b[0;34m)\u001b[0m\u001b[0;34m\u001b[0m\u001b[0;34m\u001b[0m\u001b[0m\n\u001b[0m\u001b[1;32m    972\u001b[0m \u001b[0;34m\u001b[0m\u001b[0m\n\u001b[1;32m    973\u001b[0m         \u001b[0;32mif\u001b[0m \u001b[0;32mnot\u001b[0m \u001b[0misinstance\u001b[0m\u001b[0;34m(\u001b[0m\u001b[0mself\u001b[0m\u001b[0;34m.\u001b[0m\u001b[0mindex\u001b[0m\u001b[0;34m,\u001b[0m \u001b[0mMultiIndex\u001b[0m\u001b[0;34m)\u001b[0m\u001b[0;34m:\u001b[0m\u001b[0;34m\u001b[0m\u001b[0;34m\u001b[0m\u001b[0m\n",
      "\u001b[0;32m~/opt/anaconda3/envs/data/lib/python3.6/site-packages/pandas/core/series.py\u001b[0m in \u001b[0;36m_get_values\u001b[0;34m(self, indexer)\u001b[0m\n\u001b[1;32m    983\u001b[0m         \u001b[0;32mtry\u001b[0m\u001b[0;34m:\u001b[0m\u001b[0;34m\u001b[0m\u001b[0;34m\u001b[0m\u001b[0m\n\u001b[1;32m    984\u001b[0m             return self._constructor(\n\u001b[0;32m--> 985\u001b[0;31m                 \u001b[0mself\u001b[0m\u001b[0;34m.\u001b[0m\u001b[0m_data\u001b[0m\u001b[0;34m.\u001b[0m\u001b[0mget_slice\u001b[0m\u001b[0;34m(\u001b[0m\u001b[0mindexer\u001b[0m\u001b[0;34m)\u001b[0m\u001b[0;34m,\u001b[0m \u001b[0mfastpath\u001b[0m\u001b[0;34m=\u001b[0m\u001b[0;32mTrue\u001b[0m\u001b[0;34m\u001b[0m\u001b[0;34m\u001b[0m\u001b[0m\n\u001b[0m\u001b[1;32m    986\u001b[0m             ).__finalize__(self)\n\u001b[1;32m    987\u001b[0m         \u001b[0;32mexcept\u001b[0m \u001b[0mValueError\u001b[0m\u001b[0;34m:\u001b[0m\u001b[0;34m\u001b[0m\u001b[0;34m\u001b[0m\u001b[0m\n",
      "\u001b[0;32m~/opt/anaconda3/envs/data/lib/python3.6/site-packages/pandas/core/series.py\u001b[0m in \u001b[0;36m__init__\u001b[0;34m(self, data, index, dtype, name, copy, fastpath)\u001b[0m\n\u001b[1;32m    309\u001b[0m         \u001b[0mgeneric\u001b[0m\u001b[0;34m.\u001b[0m\u001b[0mNDFrame\u001b[0m\u001b[0;34m.\u001b[0m\u001b[0m__init__\u001b[0m\u001b[0;34m(\u001b[0m\u001b[0mself\u001b[0m\u001b[0;34m,\u001b[0m \u001b[0mdata\u001b[0m\u001b[0;34m,\u001b[0m \u001b[0mfastpath\u001b[0m\u001b[0;34m=\u001b[0m\u001b[0;32mTrue\u001b[0m\u001b[0;34m)\u001b[0m\u001b[0;34m\u001b[0m\u001b[0;34m\u001b[0m\u001b[0m\n\u001b[1;32m    310\u001b[0m         \u001b[0mself\u001b[0m\u001b[0;34m.\u001b[0m\u001b[0mname\u001b[0m \u001b[0;34m=\u001b[0m \u001b[0mname\u001b[0m\u001b[0;34m\u001b[0m\u001b[0;34m\u001b[0m\u001b[0m\n\u001b[0;32m--> 311\u001b[0;31m         \u001b[0mself\u001b[0m\u001b[0;34m.\u001b[0m\u001b[0m_set_axis\u001b[0m\u001b[0;34m(\u001b[0m\u001b[0;36m0\u001b[0m\u001b[0;34m,\u001b[0m \u001b[0mindex\u001b[0m\u001b[0;34m,\u001b[0m \u001b[0mfastpath\u001b[0m\u001b[0;34m=\u001b[0m\u001b[0;32mTrue\u001b[0m\u001b[0;34m)\u001b[0m\u001b[0;34m\u001b[0m\u001b[0;34m\u001b[0m\u001b[0m\n\u001b[0m\u001b[1;32m    312\u001b[0m \u001b[0;34m\u001b[0m\u001b[0m\n\u001b[1;32m    313\u001b[0m     \u001b[0;32mdef\u001b[0m \u001b[0m_init_dict\u001b[0m\u001b[0;34m(\u001b[0m\u001b[0mself\u001b[0m\u001b[0;34m,\u001b[0m \u001b[0mdata\u001b[0m\u001b[0;34m,\u001b[0m \u001b[0mindex\u001b[0m\u001b[0;34m=\u001b[0m\u001b[0;32mNone\u001b[0m\u001b[0;34m,\u001b[0m \u001b[0mdtype\u001b[0m\u001b[0;34m=\u001b[0m\u001b[0;32mNone\u001b[0m\u001b[0;34m)\u001b[0m\u001b[0;34m:\u001b[0m\u001b[0;34m\u001b[0m\u001b[0;34m\u001b[0m\u001b[0m\n",
      "\u001b[0;32m~/opt/anaconda3/envs/data/lib/python3.6/site-packages/pandas/core/series.py\u001b[0m in \u001b[0;36m_set_axis\u001b[0;34m(self, axis, labels, fastpath)\u001b[0m\n\u001b[1;32m    382\u001b[0m             \u001b[0mlabels\u001b[0m \u001b[0;34m=\u001b[0m \u001b[0mensure_index\u001b[0m\u001b[0;34m(\u001b[0m\u001b[0mlabels\u001b[0m\u001b[0;34m)\u001b[0m\u001b[0;34m\u001b[0m\u001b[0;34m\u001b[0m\u001b[0m\n\u001b[1;32m    383\u001b[0m \u001b[0;34m\u001b[0m\u001b[0m\n\u001b[0;32m--> 384\u001b[0;31m         \u001b[0mis_all_dates\u001b[0m \u001b[0;34m=\u001b[0m \u001b[0mlabels\u001b[0m\u001b[0;34m.\u001b[0m\u001b[0mis_all_dates\u001b[0m\u001b[0;34m\u001b[0m\u001b[0;34m\u001b[0m\u001b[0m\n\u001b[0m\u001b[1;32m    385\u001b[0m         \u001b[0;32mif\u001b[0m \u001b[0mis_all_dates\u001b[0m\u001b[0;34m:\u001b[0m\u001b[0;34m\u001b[0m\u001b[0;34m\u001b[0m\u001b[0m\n\u001b[1;32m    386\u001b[0m             \u001b[0;32mif\u001b[0m \u001b[0;32mnot\u001b[0m \u001b[0misinstance\u001b[0m\u001b[0;34m(\u001b[0m\u001b[0mlabels\u001b[0m\u001b[0;34m,\u001b[0m \u001b[0;34m(\u001b[0m\u001b[0mDatetimeIndex\u001b[0m\u001b[0;34m,\u001b[0m \u001b[0mPeriodIndex\u001b[0m\u001b[0;34m,\u001b[0m \u001b[0mTimedeltaIndex\u001b[0m\u001b[0;34m)\u001b[0m\u001b[0;34m)\u001b[0m\u001b[0;34m:\u001b[0m\u001b[0;34m\u001b[0m\u001b[0;34m\u001b[0m\u001b[0m\n",
      "\u001b[0;31mAttributeError\u001b[0m: 'numpy.ndarray' object has no attribute 'is_all_dates'"
     ]
    },
    {
     "data": {
      "image/png": "[encoded data removed]",
      "text/plain": [
       "<Figure size 864x576 with 1 Axes>"
      ]
     },
     "metadata": {
      "needs_background": "light"
     },
     "output_type": "display_data"
    }
   ],
   "source": [
    "fig, ax = plt.subplots(figsize=(12,8))\n",
    "fig.suptitle(\"San Diego COVID-19 New Cases, Hospitalizations and Deaths\", fontsize=20);\n",
    "\n",
    "smoothing = 0.15\n",
    "\n",
    "t = df.dropna(subset=['day','new_cases','new_hosp', 'new_tests', 'new_deaths']).copy()\n",
    "\n",
    "t.new_hosp = t.new_hosp\n",
    "t.new_cases = t.new_cases\n",
    "t.new_deaths = t.new_deaths\n",
    "\n",
    "ax.plot(t.date, t.new_cases, color='blue', label='New Cases', marker='o', linestyle='None')\n",
    "smoothed = lowess(t.new_cases,  t.day,smoothing)\n",
    "sns.lineplot(t.date, smoothed[:,1], label='New Cases Smoothed')\n",
    "\n",
    "ax.plot(t.date, t.new_hosp, color='orange', label='New Hospitalizations', marker='o', linestyle='None')\n",
    "smoothed = lowess(t.new_hosp,  t.day, smoothing)\n",
    "sns.lineplot(t.date, smoothed[:,1], label='New Hospitalizations Smoothed')\n",
    "\n",
    "ax.plot(t.date, t.new_deaths, color='green', label='New Deaths', marker='o', linestyle='None')\n",
    "smoothed = lowess(t.new_deaths,  t.day, smoothing)\n",
    "sns.lineplot(t.date, smoothed[:,1], label='New Deaths Smoothed')\n",
    "\n",
    "ax2 = ax.twinx()  # instantiate a second axes that shares the same x-axis\n",
    "\n",
    "nt = t.new_tests \n",
    "\n",
    "#ax2.plot(t.date, nt, color='red', label='New Test', marker='o', linestyle='None')\n",
    "smoothed = lowess(nt,  t.day, smoothing)\n",
    "sns.lineplot(t.date[:len(smoothed[:,1])], smoothed[:,1], ax=ax2, color='red', linestyle='-')\n",
    "\n",
    "ax2.tick_params(axis='y', labelcolor='red')\n",
    "\n",
    "fig.tight_layout()  # otherwise the right y-label is slightly clipped\n",
    "plt.show()\n"
   ]
  },
  {
   "cell_type": "code",
   "execution_count": null,
   "metadata": {},
   "outputs": [],
   "source": [
    "fig, ax = plt.subplots(figsize=(12,8))\n",
    "\n",
    "smoothing = 0.15\n",
    "\n",
    "t = df.dropna(subset=['day','new_cases','new_hosp']).copy()\n",
    "\n",
    "t.new_cases = lowess(t.new_cases,  t.day,smoothing)[:,1]\n",
    "t.new_cases = t.new_cases / t.new_cases.max()\n",
    "#sns.lineplot(t.date, t.new_cases, label='New Cases Smoothed')\n",
    "\n",
    "t.new_hosp = lowess(t.new_hosp,  t.day, smoothing)[:,1]\n",
    "t.new_hosp = t.new_hosp / t.new_hosp.max()\n",
    "sns.lineplot(t.date, t.new_hosp, label='New Hospitalizations Smoothed')\n",
    "\n",
    "lag = t.new_cases[:25].idxmax(), t.new_hosp.idxmax()\n",
    "lag\n",
    "\n",
    "\n",
    "\n",
    "t.new_cases = t.new_cases.shift(7)\n",
    "sns.lineplot(t.date, t.new_cases, label='New Cases Smoothed')\n",
    "\n",
    "\n",
    "fig.suptitle(\"San Diego COVID-19 New Cases, Hospitalizations and Deaths, Normalized to Series Max\\nNew cases shifted 7 days\", fontsize=20);\n",
    "\n"
   ]
  },
  {
   "cell_type": "code",
   "execution_count": null,
   "metadata": {},
   "outputs": [],
   "source": [
    "fig, ax = plt.subplots(figsize=(12,8))\n",
    "fig.suptitle(\"New Cases to Daily Tests Ratio\", fontsize=20);\n",
    "t = df.dropna(subset=['day','new_cases','new_hosp']).copy()\n",
    "r = t.new_cases / t.new_tests\n",
    "\n",
    "ax.plot(t.date, r, color='blue', label='Case to Tests Ratio', marker='o', linestyle='None')\n",
    "smoothed = lowess(r,  t.day,smoothing)\n",
    "sns.lineplot(t.date[:len(smoothed[:,1])], smoothed[:,1], label='Case to Tests Ratio Smoothed')\n",
    "print(r.iloc[-14:].mean())"
   ]
  },
  {
   "cell_type": "code",
   "execution_count": null,
   "metadata": {},
   "outputs": [],
   "source": [
    "\n",
    "\n",
    "def tc_plot(ax, fit_func):\n",
    "\n",
    "    t = df.dropna(subset=['day','cases','hosp', 'deaths']).copy()\n",
    "\n",
    "    x = np.linspace(0,180)\n",
    "\n",
    "    popt, pcov = curve_fit(fit_func, t.day, t.cases, p0=fit_func.popt, absolute_sigma = True)\n",
    "    fitted = fit_func(x, *popt)\n",
    "    sns.lineplot(x, fitted, label='Cases fit')\n",
    "    sns.scatterplot(df.day, df.cases, ax=ax, color='blue', label='Cases')    \n",
    "    #print(f\"C Mean={round(popt[0])}, R^2={r2_score(df.cases, fitted[:len(df.cases)])}\")\n",
    "\n",
    "    popt, pcov = curve_fit(fit_func, t.day, t.hosp,popt, absolute_sigma = True)\n",
    "    fitted = fit_func(x, *popt)\n",
    "    sns.lineplot(x, fitted, label='Hospitalizations fit')\n",
    "    sns.scatterplot(df.day, df.hosp,  ax=ax, color='orange', label='Hospitalizations')\n",
    "    #print(f\"H Mean={round(popt[0])}, R^2={r2_score(df.hosp.fillna(0), fitted[:len(df.hosp)])}\")\n",
    "\n",
    "    popt, pcov = curve_fit(fit_func, t.day, t.deaths,popt, absolute_sigma = True)\n",
    "    fitted = fit_func(x, *popt)\n",
    "    sns.lineplot(x, fitted, label='Deaths fit')\n",
    "    #sns.lineplot(x=df.day, y=df.deaths_smooth, ax=ax, label='Deaths')   \n",
    "    sns.scatterplot(t.day, t.deaths+1, ax=ax, color='green', label='Deaths')\n",
    "    #print(f\"D Mean={round(popt[0])}, R^2={r2_score(df.deaths.fillna(0), fitted[:len(df.deaths)])}\")\n",
    "\n",
    "    \n",
    "fig, ax = plt.subplots(figsize=(12,8))   \n",
    "tc_plot(ax, func_logistic)\n",
    "ax.set_ylabel('Cases')\n",
    "ax.set_xlabel('Day Since March 13')\n",
    "fig.suptitle(\"San Diego COVID-19 Total Cases, Hospitalizations and Deaths\\nLogistic Fit\", fontsize=20);"
   ]
  },
  {
   "cell_type": "code",
   "execution_count": null,
   "metadata": {},
   "outputs": [],
   "source": [
    "fig, ax = plt.subplots(figsize=(12,8))\n",
    "fig.suptitle(\"San Diego COVID-19 New Cases, Hospitalizations and Deaths\", fontsize=20);\n",
    "\n",
    "smoothing = 0.3\n",
    "\n",
    "t = df.dropna(subset=['day','new_cases','new_hosp','new_tests', 'new_deaths']).copy()\n",
    "\n",
    "t.new_hosp = t.new_hosp/np.max(t.new_hosp)\n",
    "t.new_cases = t.new_cases/np.max(t.new_cases)\n",
    "t.new_deaths = t.new_deaths/np.max(t.new_deaths)\n",
    "\n",
    "smoothed = lowess(t.new_cases,  t.date,smoothing)\n",
    "sns.lineplot(t.date, smoothed[:,1], label='New Cases Smoothed')\n",
    "#sns.scatterplot(t.date, t.new_cases, ax=ax, color='blue', label='New Cases')\n",
    "\n",
    "#sns.scatterplot(t.date, t.new_hosp, ax=ax, color='orange', label='New Hospitalizations')\n",
    "smoothed = lowess(t.new_hosp,  t.date, smoothing)\n",
    "sns.lineplot(t.date, smoothed[:,1], label='New Hospitalizations Smoothed')\n",
    "\n",
    "\n",
    "#sns.scatterplot(t.date, t.new_deaths, ax=ax, color='green', label='New Deaths')\n",
    "smoothed = lowess(t.new_deaths,  t.date, smoothing)\n",
    "sns.lineplot(t.date, smoothed[:,1], label='New Deaths Smoothed')\n"
   ]
  },
  {
   "cell_type": "code",
   "execution_count": null,
   "metadata": {},
   "outputs": [],
   "source": [
    "t.date.describe()"
   ]
  },
  {
   "cell_type": "code",
   "execution_count": null,
   "metadata": {},
   "outputs": [],
   "source": [
    "fig, ax = plt.subplots(figsize=(12,8))\n",
    "\n",
    "tc_plot(ax, func_logistic)\n",
    "\n",
    "plt.yscale('log')\n",
    "\n",
    "ax.set_ylabel('Cases')\n",
    "ax.set_ylabel('Day Since March 13');"
   ]
  },
  {
   "cell_type": "code",
   "execution_count": null,
   "metadata": {},
   "outputs": [],
   "source": [
    "\n",
    "\n",
    "def plot_gr(df, col):\n",
    "\n",
    "    x = df.day.values.reshape(len(df), 1)[-14:]\n",
    "    y = df[col].values.reshape(len(df), 1)[-14:]\n",
    "\n",
    "    regr = linear_model.LinearRegression()\n",
    "    regr.fit(x, y)\n",
    "\n",
    "    fig, ax = plt.subplots(figsize=(12,8))\n",
    "    fig.suptitle('Instantaneous Growth Rate in Confirmed Cases\\nIn San Diego Cunty',fontsize=20)\n",
    "\n",
    "    sns.regplot(ax=ax, x='day',y=col, data=df, lowess=True, label = 'Growth rate')\n",
    "\n",
    "    ax.plot(x, regr.predict(x), color='red', linewidth=3, label = 'Trajectory of last 10 days')\n",
    "\n",
    "    ax.set_xlabel('Days Since 13 March', fontsize=18)\n",
    "    ax.set_ylabel('Rate of Growth', fontsize=18)\n",
    "\n",
    "   \n",
    "    plt.gcf().text(.65,0, f\"Source data : County of San Diego\", fontsize=14) \n",
    "    ax.legend(loc='upper left');\n",
    "    plt.show()\n",
    "\n",
    "    print('Coefficients:', regr.coef_, regr.intercept_)\n",
    "\n",
    "    m = regr.coef_[0][0]\n",
    "    b = regr.intercept_[0]\n",
    "\n",
    "    \n",
    "    \n",
    "    print(f\"Zero growth at {-b/m} days\")\n",
    "\n",
    "plot_gr(df.dropna(subset=['cases_rate']), 'cases_rate')\n",
    "    "
   ]
  }
 ],
 "metadata": {
  "celltoolbar": "Tags",
  "kernelspec": {
   "display_name": "Python 3",
   "language": "python",
   "name": "python3"
  },
  "language_info": {
   "codemirror_mode": {
    "name": "ipython",
    "version": 3
   },
   "file_extension": ".py",
   "mimetype": "text/x-python",
   "name": "python",
   "nbconvert_exporter": "python",
   "pygments_lexer": "ipython3",
   "version": "3.6.9"
  }
 },
 "nbformat": 4,
 "nbformat_minor": 4
}
